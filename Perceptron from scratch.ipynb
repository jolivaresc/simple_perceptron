{
 "cells": [
  {
   "cell_type": "markdown",
   "metadata": {},
   "source": [
    "# Simple Perceptron for logical gates.\n",
    "some dependecies:\n"
   ]
  },
  {
   "cell_type": "code",
   "execution_count": 1,
   "metadata": {
    "collapsed": true
   },
   "outputs": [],
   "source": [
    "from random import choice,random\n",
    "import numpy as np\n",
    "import matplotlib.pyplot as plt\n",
    "%matplotlib inline"
   ]
  },
  {
   "cell_type": "markdown",
   "metadata": {},
   "source": [
    "# `set_data`\n",
    "Receives a numpy array `target` thar represents the output of a logical gate and return a list with the next format:\n",
    "**[x1 | x0 | bias | target]**\n"
   ]
  },
  {
   "cell_type": "code",
   "execution_count": 2,
   "metadata": {
    "collapsed": true
   },
   "outputs": [],
   "source": [
    "def set_data(target):\n",
    "\tx = [np.array([0,0]),\n",
    "\t\t np.array([0,1]),\n",
    "\t     np.array([1,0]),\n",
    "\t\t np.array([1,1])]\n",
    "\tbias = np.array([1 for _ in range(4)])\n",
    "\t# inputs: [x1 | x0 | bias]\n",
    "\tinputs = np.column_stack((x,bias))\n",
    "\t# return data: [x1 | x0 | bias | target]\n",
    "\treturn [(np.array(i),j) for i,j in zip(inputs,target)]"
   ]
  },
  {
   "cell_type": "markdown",
   "metadata": {},
   "source": [
    "# Activation function\n",
    "I used a Heaviside as a threshold."
   ]
  },
  {
   "cell_type": "code",
   "execution_count": 3,
   "metadata": {
    "collapsed": true
   },
   "outputs": [],
   "source": [
    "heaviside = lambda x: 1 if x >= 0 else -1"
   ]
  },
  {
   "cell_type": "markdown",
   "metadata": {},
   "source": [
    "# Training\n",
    "Given the data target and random weights.\n",
    "The arguments for the learning rate (`eta`) & number of iterations (`epochs`) are optional. Returns the weights updated and the error.\n"
   ]
  },
  {
   "cell_type": "code",
   "execution_count": 4,
   "metadata": {
    "collapsed": true
   },
   "outputs": [],
   "source": [
    "def train(data,w,eta=0.1,epochs=40):\n",
    "\t# Activation function\n",
    "\terrors = []\n",
    "\t#w_tmp = []\n",
    "\t# Updating weights\n",
    "\tfor _ in range(epochs):\n",
    "\t\tx,expected = choice(data)\n",
    "\t\tresult = np.dot(w,x)\n",
    "\t\terror = expected - heaviside(result)\n",
    "\t\terrors.append(error)\n",
    "\t\tw += eta*error*x\n",
    "\treturn [w,error]"
   ]
  },
  {
   "cell_type": "markdown",
   "metadata": {},
   "source": [
    "# Predicting\n",
    "Receives a vector to test and the weights. \n",
    "\n",
    "**Note:** The vector must includes the bias. \n",
    "\n",
    "i.e:\n",
    "`predict([x1,x0,1],w)`"
   ]
  },
  {
   "cell_type": "code",
   "execution_count": 5,
   "metadata": {
    "collapsed": true
   },
   "outputs": [],
   "source": [
    "def predict(inputs,w):\n",
    "\t# inputs: X + bias\n",
    "\treturn 1 if np.dot(inputs,w) >= 0 else -1"
   ]
  },
  {
   "cell_type": "markdown",
   "metadata": {},
   "source": [
    "# Display\n",
    "\n",
    "Plotting the outputs of the logical gate and the line that represents the decision boundary.\n",
    "The triangles represent a 0 & the circles a 1."
   ]
  },
  {
   "cell_type": "code",
   "execution_count": 6,
   "metadata": {
    "collapsed": true
   },
   "outputs": [],
   "source": [
    "def display(data,w):\n",
    "\tfor dot in data:\n",
    "\t\tinputs,y = dot\n",
    "\t\tif y > 0:\n",
    "\t\t\tplt.scatter(inputs[0],inputs[1],color = 'g',s=200)\n",
    "\t\telse:plt.scatter(inputs[0],inputs[1],marker='^',color = 'b',s=200)\n",
    "\tplt.grid()\n",
    "\tplt.title('truth table')\n",
    "\tx1 = -0.1\n",
    "\ty1 = (-w[2] - w[0] * x1) / w[1]\n",
    "\tprint(x1,y1)\n",
    "\tx2 = 1.2\n",
    "\ty2 = (-w[2] - w[0] * x2) / w[1]\n",
    "\tprint(x2,y2)\n",
    "\tplt.plot([x1,x2],[y1,y2],label=\"Decision boundery\",lw=2)\n",
    "\tplt.legend(loc='upper right')\n",
    "\tplt.show()"
   ]
  },
  {
   "cell_type": "markdown",
   "metadata": {},
   "source": [
    "# Run\n",
    "\n",
    "Running & training the perceptron.\n",
    "\n",
    "**Note** In the numpy array `target` a 0 is represented by a -1."
   ]
  },
  {
   "cell_type": "code",
   "execution_count": 7,
   "metadata": {
    "collapsed": false
   },
   "outputs": [
    {
     "name": "stdout",
     "output_type": "stream",
     "text": [
      "random weights: [ 0.29065932  0.03606822  0.32724607]\n",
      "weights updated: [-0.30934068 -0.36393178  0.52724607]\n",
      "Predicting\tAproximation\tResult\n",
      "[0, 0]\t\t0.52725\t\t1\n",
      "[0, 1]\t\t0.16331\t\t1\n",
      "[1, 0]\t\t0.21791\t\t1\n",
      "[1, 1]\t\t-0.14603\t-1\n",
      "-0.1 1.53374937074\n",
      "1.2 0.428754133195\n"
     ]
    },
    {
     "data": {
      "image/png": "[encoded data removed]",
      "text/plain": [
       "<matplotlib.figure.Figure at 0x7f2849b9ef28>"
      ]
     },
     "metadata": {},
     "output_type": "display_data"
    }
   ],
   "source": [
    "def run():\n",
    "\t# output for a nand gate\n",
    "\ttarget = np.array([1,1,1,-1])\n",
    "\t# Random weights\n",
    "\tw = np.array([random() for _ in range(3)])\n",
    "\tprint(\"random weights: {0}\".format(w))\n",
    "\tnand = set_data(target)\n",
    "\tw,error = train(nand,w,eta=0.1,epochs=100)\n",
    "\tprint(\"weights updated: {0}\".format(w))\n",
    "\tprint(\"Predicting\\tAproximation\\tResult\")\n",
    "\tprint(\"{0}\\t\\t{1:.5f}\\t\\t{2}\".format([0,0],np.dot([0,0,1],w),predict([0,0,1],w)))\n",
    "\tprint(\"{0}\\t\\t{1:.5f}\\t\\t{2}\".format([0,1],np.dot([0,1,1],w),predict([0,1,1],w)))\n",
    "\tprint(\"{0}\\t\\t{1:.5f}\\t\\t{2}\".format([1,0],np.dot([1,0,1],w),predict([1,0,1],w)))\n",
    "\tprint(\"{0}\\t\\t{1:.5f}\\t{2}\".format([1,1],np.dot([1,1,1],w),predict([1,1,1],w)))\n",
    "\tdisplay(nand,w)\n",
    "\n",
    "if __name__ == '__main__':\n",
    "\trun()"
   ]
  },
  {
   "cell_type": "code",
   "execution_count": null,
   "metadata": {
    "collapsed": true
   },
   "outputs": [],
   "source": []
  }
 ],
 "metadata": {
  "kernelspec": {
   "display_name": "Python 3",
   "language": "python",
   "name": "python3"
  },
  "language_info": {
   "codemirror_mode": {
    "name": "ipython",
    "version": 3
   },
   "file_extension": ".py",
   "mimetype": "text/x-python",
   "name": "python",
   "nbconvert_exporter": "python",
   "pygments_lexer": "ipython3",
   "version": "3.5.2+"
  }
 },
 "nbformat": 4,
 "nbformat_minor": 2
}
